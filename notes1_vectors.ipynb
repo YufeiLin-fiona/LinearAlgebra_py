{
 "cells": [
  {
   "cell_type": "code",
   "execution_count": 1,
   "metadata": {},
   "outputs": [],
   "source": [
    "import numpy as np\n",
    "import matplotlib.pyplot as plt"
   ]
  },
  {
   "cell_type": "markdown",
   "metadata": {},
   "source": [
    "# 1. Vectors"
   ]
  },
  {
   "cell_type": "markdown",
   "metadata": {},
   "source": [
    "### 1.1 Vectors"
   ]
  },
  {
   "cell_type": "code",
   "execution_count": 2,
   "metadata": {},
   "outputs": [],
   "source": [
    "x = np.array([1,5,2,7])"
   ]
  },
  {
   "cell_type": "code",
   "execution_count": 5,
   "metadata": {},
   "outputs": [
    {
     "data": {
      "text/plain": [
       "2"
      ]
     },
     "execution_count": 5,
     "metadata": {},
     "output_type": "execute_result"
    }
   ],
   "source": [
    "#indexing\n",
    "x[2]"
   ]
  },
  {
   "cell_type": "code",
   "execution_count": 7,
   "metadata": {},
   "outputs": [
    {
     "data": {
      "text/plain": [
       "array([ 1,  5, 20,  7])"
      ]
     },
     "execution_count": 7,
     "metadata": {},
     "output_type": "execute_result"
    }
   ],
   "source": [
    "# assign rather than copy\n",
    "y = x\n",
    "x[2] = 20\n",
    "y"
   ]
  },
  {
   "cell_type": "code",
   "execution_count": 8,
   "metadata": {},
   "outputs": [
    {
     "data": {
      "text/plain": [
       "array([ True,  True, False,  True])"
      ]
     },
     "execution_count": 8,
     "metadata": {},
     "output_type": "execute_result"
    }
   ],
   "source": [
    "# element wise operation\n",
    "z = np.array([1,5,2,7])\n",
    "x == z"
   ]
  },
  {
   "cell_type": "code",
   "execution_count": 9,
   "metadata": {},
   "outputs": [
    {
     "data": {
      "text/plain": [
       "array([ 1,  5, 20,  7,  1,  5,  2,  7])"
      ]
     },
     "execution_count": 9,
     "metadata": {},
     "output_type": "execute_result"
    }
   ],
   "source": [
    "# stack vectors\n",
    "np.concatenate((x,z))"
   ]
  },
  {
   "cell_type": "code",
   "execution_count": 11,
   "metadata": {},
   "outputs": [
    {
     "data": {
      "text/plain": [
       "list"
      ]
     },
     "execution_count": 11,
     "metadata": {},
     "output_type": "execute_result"
    }
   ],
   "source": [
    "type([x, z])"
   ]
  },
  {
   "cell_type": "code",
   "execution_count": 14,
   "metadata": {},
   "outputs": [
    {
     "data": {
      "text/plain": [
       "array([5, 7, 3])"
      ]
     },
     "execution_count": 14,
     "metadata": {},
     "output_type": "execute_result"
    }
   ],
   "source": [
    "# slicing vector\n",
    "x = np.array([1,5,6,2,7,8,1,3])\n",
    "x[1:len(x):3]"
   ]
  },
  {
   "cell_type": "code",
   "execution_count": 17,
   "metadata": {},
   "outputs": [
    {
     "data": {
      "text/plain": [
       "[5, 2]"
      ]
     },
     "execution_count": 17,
     "metadata": {},
     "output_type": "execute_result"
    }
   ],
   "source": [
    "# list of vectors\n",
    "x = [1,2] #python list\n",
    "y = [5,2]\n",
    "z = [6,2]\n",
    "[x,y,z][1]"
   ]
  },
  {
   "cell_type": "code",
   "execution_count": 19,
   "metadata": {},
   "outputs": [
    {
     "data": {
      "text/plain": [
       "array([ 0.60075867,  2.07609105,  0.21299705,  0.93891154,  1.88125371,\n",
       "       -0.44346736,  0.69278261, -0.43287883,  1.29009454, -0.68314982])"
      ]
     },
     "execution_count": 19,
     "metadata": {},
     "output_type": "execute_result"
    }
   ],
   "source": [
    "np.random.randn(10)"
   ]
  },
  {
   "cell_type": "code",
   "execution_count": 23,
   "metadata": {},
   "outputs": [
    {
     "data": {
      "text/plain": [
       "[<matplotlib.lines.Line2D at 0x193f8a65908>]"
      ]
     },
     "execution_count": 23,
     "metadata": {},
     "output_type": "execute_result"
    },
    {
     "data": {
      "image/png": "[encoded data removed]",
      "text/plain": [
       "<Figure size 432x288 with 1 Axes>"
      ]
     },
     "metadata": {
      "needs_background": "light"
     },
     "output_type": "display_data"
    }
   ],
   "source": [
    "# plot\n",
    "temps = [ 71, 71, 68, 69, 68, 69, 68, 74, 77, 82, 85, 86,\n",
    "88, 86, 85, 86, 84, 79, 77, 75, 73, 71, 70, 70, 69, 69, 69,\n",
    "69, 67, 68, 68, 73, 76, 77, 82, 84, 84, 81, 80, 78, 79, 78,\n",
    "73, 72, 70, 70, 68, 67 ]\n",
    "plt.plot(temps, '-bo')"
   ]
  },
  {
   "cell_type": "markdown",
   "metadata": {},
   "source": [
    "### 1.2 Vector Addition \n",
    "### 1.3 scalar-vector, element-wise Operation"
   ]
  },
  {
   "cell_type": "code",
   "execution_count": 24,
   "metadata": {},
   "outputs": [
    {
     "data": {
      "text/plain": [
       "array([2.        , 0.33333333, 2.66666667, 0.66666667, 2.        ])"
      ]
     },
     "execution_count": 24,
     "metadata": {},
     "output_type": "execute_result"
    }
   ],
   "source": [
    "x = np.array([6,1,8,2,6])\n",
    "x/3"
   ]
  },
  {
   "cell_type": "code",
   "execution_count": 27,
   "metadata": {},
   "outputs": [
    {
     "data": {
      "text/plain": [
       "array([  36,    1,   64,  256, 7776], dtype=int32)"
      ]
     },
     "execution_count": 27,
     "metadata": {},
     "output_type": "execute_result"
    }
   ],
   "source": [
    "y = np.array([2,7,2,8,5])\n",
    "x ** y"
   ]
  },
  {
   "cell_type": "code",
   "execution_count": 29,
   "metadata": {},
   "outputs": [
    {
     "data": {
      "text/plain": [
       "array([4., 5.])"
      ]
     },
     "execution_count": 29,
     "metadata": {},
     "output_type": "execute_result"
    }
   ],
   "source": [
    "# linear combination of vectors\n",
    "a = np.array([1,2])\n",
    "b = np.array([3,4])\n",
    "alpha = -0.5\n",
    "beta = 1.5\n",
    "\n",
    "def lincomb(coeff, vectors):\n",
    "    n = len(coeff)\n",
    "    comb = np.zeros(n)\n",
    "    for i in range(n):\n",
    "        comb = comb + coeff[i]*vectors[i]\n",
    "        \n",
    "    return comb\n",
    "\n",
    "lincomb([alpha, beta], [a, b])"
   ]
  },
  {
   "cell_type": "code",
   "execution_count": 31,
   "metadata": {},
   "outputs": [],
   "source": [
    "def lincomb2(coeff, vectors):\n",
    "    return sum(coeff[i]*vectors[i] for i in range(len(vectors)))"
   ]
  },
  {
   "cell_type": "code",
   "execution_count": 32,
   "metadata": {},
   "outputs": [
    {
     "data": {
      "text/plain": [
       "array([4., 5.])"
      ]
     },
     "execution_count": 32,
     "metadata": {},
     "output_type": "execute_result"
    }
   ],
   "source": [
    "lincomb2([alpha, beta], [a, b])"
   ]
  },
  {
   "cell_type": "markdown",
   "metadata": {},
   "source": [
    "### 1.4 Inner Product"
   ]
  },
  {
   "cell_type": "code",
   "execution_count": 33,
   "metadata": {},
   "outputs": [],
   "source": [
    "# Inner Product of two n-vector\n",
    "x = np.array([-1,2,2])\n",
    "y = np.array([1,0,-3])"
   ]
  },
  {
   "cell_type": "code",
   "execution_count": 34,
   "metadata": {},
   "outputs": [
    {
     "data": {
      "text/plain": [
       "-7"
      ]
     },
     "execution_count": 34,
     "metadata": {},
     "output_type": "execute_result"
    }
   ],
   "source": [
    "np.inner(x,y)"
   ]
  },
  {
   "cell_type": "code",
   "execution_count": 35,
   "metadata": {},
   "outputs": [
    {
     "data": {
      "text/plain": [
       "-7"
      ]
     },
     "execution_count": 35,
     "metadata": {},
     "output_type": "execute_result"
    }
   ],
   "source": [
    "x @ y"
   ]
  },
  {
   "cell_type": "code",
   "execution_count": 39,
   "metadata": {},
   "outputs": [],
   "source": [
    "# e.g. NPV\n",
    "c = np.array([0.1,0.1,0.1,1.1]) #cash flow vector\n",
    "n = len(c)\n",
    "r = 0.05 #5% per-period interest rate\n",
    "\n",
    "d = [(1+r)**-i for i in range(n)]\n",
    "NPV = c@d"
   ]
  },
  {
   "cell_type": "code",
   "execution_count": 38,
   "metadata": {},
   "outputs": [
    {
     "data": {
      "text/plain": [
       "1.236162401468524"
      ]
     },
     "execution_count": 38,
     "metadata": {},
     "output_type": "execute_result"
    }
   ],
   "source": [
    "d @ c"
   ]
  },
  {
   "cell_type": "code",
   "execution_count": 43,
   "metadata": {},
   "outputs": [
    {
     "data": {
      "text/plain": [
       "259.0"
      ]
     },
     "execution_count": 43,
     "metadata": {},
     "output_type": "execute_result"
    }
   ],
   "source": [
    "# e.g.\n",
    "s = np.concatenate([np.zeros(10), np.ones(3), np.zeros(len(temps)-10-3)])\n",
    "s@temps"
   ]
  },
  {
   "cell_type": "markdown",
   "metadata": {},
   "source": [
    "# 2. Functions"
   ]
  },
  {
   "cell_type": "markdown",
   "metadata": {},
   "source": [
    "### 2.1 Linear Functions"
   ]
  },
  {
   "cell_type": "code",
   "execution_count": 2,
   "metadata": {},
   "outputs": [
    {
     "data": {
      "text/plain": [
       "-5"
      ]
     },
     "execution_count": 2,
     "metadata": {},
     "output_type": "execute_result"
    }
   ],
   "source": [
    "f = lambda x: x[0] + x[1] - x[3]**2\n",
    "f([-1,0,1,2])"
   ]
  },
  {
   "cell_type": "code",
   "execution_count": 3,
   "metadata": {},
   "outputs": [
    {
     "data": {
      "text/plain": [
       "-5"
      ]
     },
     "execution_count": 3,
     "metadata": {},
     "output_type": "execute_result"
    }
   ],
   "source": [
    "f(np.array([-1,0,1,2]))"
   ]
  },
  {
   "cell_type": "markdown",
   "metadata": {},
   "source": [
    "#### Superposition: function f(x) = a@x is linear"
   ]
  },
  {
   "cell_type": "code",
   "execution_count": 4,
   "metadata": {},
   "outputs": [],
   "source": [
    "a = np.array([-2,0,1,-3])\n",
    "x = np.array([2,2,-1,1])\n",
    "y = np.array([0,1,-1,0])\n",
    "alpha = 1.5\n",
    "beta = -3.7"
   ]
  },
  {
   "cell_type": "code",
   "execution_count": 7,
   "metadata": {},
   "outputs": [
    {
     "data": {
      "text/plain": [
       "True"
      ]
     },
     "execution_count": 7,
     "metadata": {},
     "output_type": "execute_result"
    }
   ],
   "source": [
    "LHS = np.inner(alpha*x+beta*y, a)\n",
    "RHS = alpha*np.inner(x,a) + beta* (y@a)\n",
    "LHS == RHS"
   ]
  },
  {
   "cell_type": "markdown",
   "metadata": {},
   "source": [
    "### 2.2 Taylor Expansion"
   ]
  },
  {
   "cell_type": "code",
   "execution_count": 26,
   "metadata": {},
   "outputs": [],
   "source": [
    "f = lambda x: x[0] + np.exp(x[1]-x[0])"
   ]
  },
  {
   "cell_type": "code",
   "execution_count": 27,
   "metadata": {},
   "outputs": [],
   "source": [
    "# partial derivatives regarding x[0], x[1] respectively\n",
    "grad_f = lambda z: [1-np.exp(z[1]-z[0]), np.exp(z[1]-z[0])]"
   ]
  },
  {
   "cell_type": "code",
   "execution_count": 33,
   "metadata": {},
   "outputs": [],
   "source": [
    "# Taylor Expansion\n",
    "f_hat = lambda x,z: f(z) + grad_f(z) @ (x-z)"
   ]
  },
  {
   "cell_type": "code",
   "execution_count": 29,
   "metadata": {},
   "outputs": [
    {
     "data": {
      "text/plain": [
       "3.718281828459045"
      ]
     },
     "execution_count": 29,
     "metadata": {},
     "output_type": "execute_result"
    }
   ],
   "source": [
    "f([1,2])"
   ]
  },
  {
   "cell_type": "code",
   "execution_count": 40,
   "metadata": {},
   "outputs": [
    {
     "data": {
      "text/plain": [
       "3.5509663205467126"
      ]
     },
     "execution_count": 40,
     "metadata": {},
     "output_type": "execute_result"
    }
   ],
   "source": [
    "f_hat(np.array([1,2]), np.array([1.5,2.1]))"
   ]
  },
  {
   "cell_type": "markdown",
   "metadata": {},
   "source": [
    "### 2.3 Linear Regression"
   ]
  },
  {
   "cell_type": "code",
   "execution_count": 41,
   "metadata": {},
   "outputs": [],
   "source": [
    "beta = np.array([148.73, -18.85])\n",
    "v = 54.40"
   ]
  },
  {
   "cell_type": "code",
   "execution_count": 42,
   "metadata": {},
   "outputs": [],
   "source": [
    "y_hat = lambda x: v + x@beta"
   ]
  },
  {
   "cell_type": "code",
   "execution_count": 45,
   "metadata": {},
   "outputs": [
    {
     "data": {
      "text/plain": [
       "array([[0.846, 1.   ],\n",
       "       [1.324, 2.   ]])"
      ]
     },
     "execution_count": 45,
     "metadata": {},
     "output_type": "execute_result"
    }
   ],
   "source": [
    "x = np.array([[0.846,1], [1.324, 2]])\n",
    "x"
   ]
  },
  {
   "cell_type": "code",
   "execution_count": 46,
   "metadata": {},
   "outputs": [],
   "source": [
    "y = np.array([115, 234.5])"
   ]
  },
  {
   "cell_type": "code",
   "execution_count": 47,
   "metadata": {},
   "outputs": [
    {
     "data": {
      "text/plain": [
       "array([161.37558, 213.61852])"
      ]
     },
     "execution_count": 47,
     "metadata": {},
     "output_type": "execute_result"
    }
   ],
   "source": [
    "y_hat(x)"
   ]
  },
  {
   "cell_type": "code",
   "execution_count": 4,
   "metadata": {},
   "outputs": [],
   "source": [
    "D = house_sales_data()"
   ]
  },
  {
   "cell_type": "code",
   "execution_count": 6,
   "metadata": {},
   "outputs": [],
   "source": [
    "D = house_sales_data()\n",
    "price = D['price'\n",
    "]\n",
    "area = D[\n",
    "'area'\n",
    "]\n",
    "beds = D[\n",
    "'beds'\n",
    "]\n",
    "v = 54.4017\n",
    "beta = np.array([147.7251, -18.8534])"
   ]
  },
  {
   "cell_type": "code",
   "execution_count": 7,
   "metadata": {},
   "outputs": [],
   "source": [
    "predicted = v + beta[0]*area + beta[1]*beds"
   ]
  },
  {
   "cell_type": "code",
   "execution_count": 11,
   "metadata": {},
   "outputs": [
    {
     "data": {
      "image/png": "[encoded data removed]",
      "text/plain": [
       "<Figure size 432x288 with 1 Axes>"
      ]
     },
     "metadata": {
      "needs_background": "light"
     },
     "output_type": "display_data"
    }
   ],
   "source": [
    "plt.scatter(price, predicted)\n",
    "plt.plot((0,800), (0,800), ls=\"--\", c='r')\n",
    "plt.xlabel('Actual price')\n",
    "plt.ylabel('Predicted price')\n",
    "plt.show()"
   ]
  },
  {
   "cell_type": "code",
   "execution_count": null,
   "metadata": {},
   "outputs": [],
   "source": []
  },
  {
   "cell_type": "code",
   "execution_count": 3,
   "metadata": {},
   "outputs": [],
   "source": [
    "def house_sales_data():\n",
    "    # 774 House sales in Sacramento area.\n",
    "    # Column 1: region (1--4) based on 5-digit ZIP code (see Table 13.4.)\n",
    "    # Column 2: number of bedrooms.\n",
    "    # Column 3: number of bathrooms.\n",
    "    # Column 4: house area in square feet.\n",
    "    # Column 5: 1 if a condo, 0 otherwise.\n",
    "    # Column 6: selling price in dollars.\n",
    "    \"\"\"\n",
    "        house_sales_data()\n",
    "    Returns a dictionary `D` with the Sacramento house sales data\n",
    "    used in section 2.3 and chapter 13.  \n",
    "    The 6 items in the dictionary are vectors of length 774, with data for \n",
    "    774 house sales.\n",
    "    * `D[\"price\"]`:    selling price in 1000 dollars\n",
    "    * `D[\"area\"]`:     area in 1000 square feet\n",
    "    * `D[\"beds\"]`:     number of bedrooms\n",
    "    * `D[\"baths\"]`:    number of bathrooms\n",
    "    * `D[\"condo\"]`:    1 if a condo, 0 otherwise \n",
    "    * `D[\"location\"]`: an integer between 1 and 4 indicating the location.\n",
    "    \"\"\"\n",
    "    import numpy as np\n",
    "    X = np.array([[ 2,   2,   2,    941,   1,     94905],\n",
    "         [ 2,   3,   2,   1146,   0,     98937],\n",
    "         [ 2,   3,   2,    909,   0,    100309],\n",
    "         [ 3,   3,   2,   1289,   0,    106250],\n",
    "         [ 3,   3,   1,   1020,   0,    107502],\n",
    "         [ 2,   2,   2,   1022,   0,    108750],\n",
    "         [ 2,   2,   2,   1134,   1,    110700],\n",
    "         [ 2,   2,   1,    844,   0,    113263],\n",
    "         [ 2,   2,   1,    795,   1,    116250],\n",
    "         [ 2,   2,   1,    588,   0,    120000],\n",
    "         [ 2,   3,   2,   1356,   0,    121630],\n",
    "         [ 2,   3,   2,   1118,   0,    122000],\n",
    "         [ 3,   4,   2,   1329,   0,    122682],\n",
    "         [ 2,   4,   2,   1240,   0,    123000],\n",
    "         [ 2,   3,   2,   1601,   0,    124100],\n",
    "         [ 2,   3,   2,    901,   0,    125000],\n",
    "         [ 2,   3,   2,   1088,   0,    126640],\n",
    "         [ 3,   3,   1,    963,   0,    127281],\n",
    "         [ 3,   3,   2,   1119,   0,    129000],\n",
    "         [ 2,   4,   2,   1380,   0,    131200],\n",
    "         [ 3,   3,   2,   1248,   0,    132000],\n",
    "         [ 3,   2,   2,   1039,   1,    133000],\n",
    "         [ 2,   3,   2,   1152,   0,    134555],\n",
    "         [ 2,   3,   2,   1380,   0,    136500],\n",
    "         [ 2,   3,   2,   1116,   0,    138750],\n",
    "         [ 3,   2,   2,   1039,   1,    141000],\n",
    "         [ 3,   3,   2,   1418,   0,    146250],\n",
    "         [ 2,   3,   2,   1082,   0,    147308],\n",
    "         [ 3,   4,   2,   1472,   0,    148750],\n",
    "         [ 3,   4,   2,   1146,   0,    149593],\n",
    "         [ 2,   1,   1,    760,   1,    150000],\n",
    "         [ 2,   2,   2,   1304,   1,    152000],\n",
    "         [ 3,   3,   2,   1207,   0,    154000],\n",
    "         [ 3,   3,   2,   1056,   0,    156896],\n",
    "         [ 2,   2,   2,   1043,   0,    161250],\n",
    "         [ 2,   4,   2,   1587,   0,    161500],\n",
    "         [ 2,   4,   1,   1120,   0,    164000],\n",
    "         [ 3,   4,   2,   1580,   0,    165000],\n",
    "         [ 3,   4,   1,   1955,   0,    166357],\n",
    "         [ 2,   4,   2,   1656,   0,    166357],\n",
    "         [ 3,   3,   2,   1477,   0,    168000],\n",
    "         [ 3,   3,   2,   1188,   0,    170000],\n",
    "         [ 3,   4,   2,   1590,   0,    173000],\n",
    "         [ 3,   3,   2,   1463,   0,    174250],\n",
    "         [ 3,   4,   2,   1714,   0,    174313],\n",
    "         [ 3,   3,   2,   1185,   0,    178480],\n",
    "         [ 3,   3,   2,   1406,   0,    178760],\n",
    "         [ 3,   3,   2,   1172,   0,    181000],\n",
    "         [ 2,   3,   1,   1152,   0,    181872],\n",
    "         [ 3,   4,   3,   1851,   0,    182587],\n",
    "         [ 2,   3,   2,   1215,   0,    182716],\n",
    "         [ 3,   3,   2,   1130,   0,    182750],\n",
    "         [ 2,   4,   2,   1603,   0,    183200],\n",
    "         [ 3,   3,   1,   1479,   0,    188741],\n",
    "         [ 3,   3,   2,   1420,   0,    189000],\n",
    "         [ 3,   3,   2,   1280,   0,    192067],\n",
    "         [ 3,   3,   2,   1586,   0,    194000],\n",
    "         [ 2,   3,   2,   1362,   0,    194818],\n",
    "         [ 3,   3,   2,   1266,   0,    198000],\n",
    "         [ 3,   4,   2,   1715,   0,    199500],\n",
    "         [ 4,   3,   2,   1820,   0,    200000],\n",
    "         [ 2,   3,   1,    936,   0,    200000],\n",
    "         [ 2,   3,   2,   1511,   0,    208000],\n",
    "         [ 3,   4,   2,   1590,   0,    212864],\n",
    "         [ 3,   4,   2,   1596,   0,    221000],\n",
    "         [ 2,   2,   2,   1341,   0,    221000],\n",
    "         [ 3,   5,   3,   2136,   0,    223058],\n",
    "         [ 3,   4,   2,   1616,   0,    227887],\n",
    "         [ 3,   3,   2,   1478,   0,    231477],\n",
    "         [ 2,   3,   2,   1287,   0,    234697],\n",
    "         [ 2,   4,   2,   1277,   0,    235000],\n",
    "         [ 2,   4,   2,   1448,   0,    236000],\n",
    "         [ 3,   4,   3,   2235,   0,    236685],\n",
    "         [ 2,   3,   2,   2093,   0,    237800],\n",
    "         [ 2,   3,   2,   1193,   0,    240122],\n",
    "         [ 3,   3,   2,   2163,   0,    242638],\n",
    "         [ 3,   3,   2,   1269,   0,    244000],\n",
    "         [ 3,   3,   1,    958,   0,    244960],\n",
    "         [ 3,   5,   3,   2508,   0,    245918],\n",
    "         [ 2,   3,   2,   1305,   0,    250000],\n",
    "         [ 3,   4,   2,   1591,   0,    250000],\n",
    "         [ 2,   2,   2,   1326,   1,    250134],\n",
    "         [ 3,   3,   2,   1843,   0,    254200],\n",
    "         [ 2,   4,   2,   1921,   0,    254200],\n",
    "         [ 3,   5,   3,   2790,   0,    258000],\n",
    "         [ 2,   3,   2,   1541,   0,    260000],\n",
    "         [ 3,   3,   1,   1018,   0,    260014],\n",
    "         [ 2,   3,   2,   1672,   1,    265000],\n",
    "         [ 3,   3,   1,    975,   0,    271742],\n",
    "         [ 3,   4,   3,   2372,   0,    273750],\n",
    "         [ 3,   3,   2,   1446,   0,    275086],\n",
    "         [ 3,   4,   3,   3009,   0,    280987],\n",
    "         [ 3,   4,   2,   2056,   0,    285000],\n",
    "         [ 3,   4,   2,   1993,   0,    287417],\n",
    "         [ 3,   3,   2,   1857,   0,    291000],\n",
    "         [ 1,   2,   1,   1126,   0,    292024],\n",
    "         [ 3,   5,   3,   2494,   0,    297000],\n",
    "         [ 3,   3,   2,   1843,   0,    298000], \n",
    "         [ 2,   2,   2,   1520,   0,    299000],\n",
    "         [ 2,   5,   3,   2800,   0,    304037],\n",
    "         [ 3,   4,   2,   2309,   0,    311000],\n",
    "         [ 2,   5,   3,   2367,   0,    315537],\n",
    "         [ 2,   5,   4,   3516,   0,    320000],\n",
    "         [ 3,   4,   3,   1914,   0,    328360],\n",
    "         [ 2,   2,   1,   1690,   0,    334150],\n",
    "         [ 3,   3,   3,   2725,   0,    335750],\n",
    "         [ 3,   4,   3,   2354,   0,    335750],\n",
    "         [ 4,   3,   2,   2185,   0,    344250],\n",
    "         [ 3,   4,   2,   1801,   0,    346210],\n",
    "         [ 3,   3,   3,   1961,   0,    347029],\n",
    "         [ 3,   4,   2,   3134,   0,    347650],\n",
    "         [ 3,   4,   3,   1915,   0,    351300],\n",
    "         [ 2,   4,   3,   2734,   0,    370500],\n",
    "         [ 3,   3,   2,   2110,   0,    372000],\n",
    "         [ 3,   5,   3,   3164,   0,    375000],\n",
    "         [ 2,   5,   3,   3599,   0,    381300],\n",
    "         [ 3,   4,   2,   2054,   0,    381942],\n",
    "         [ 2,   4,   2,   1830,   0,    387731],\n",
    "         [ 1,   3,   3,   1627,   0,    391000],\n",
    "         [ 3,   4,   3,   3440,   0,    394470],\n",
    "         [ 4,   3,   2,   2846,   0,    395000],\n",
    "         [ 3,   4,   3,   2359,   0,    400186],\n",
    "         [ 3,   3,   3,   2052,   0,    415000],\n",
    "         [ 3,   5,   3,   3433,   0,    425000],\n",
    "         [ 2,   5,   3,   3615,   0,    430000],\n",
    "         [ 4,   5,   3,   2687,   0,    460000],\n",
    "         [ 3,   4,   3,   2724,   0,    461000],\n",
    "         [ 3,   4,   3,   3440,   0,    489332],\n",
    "         [ 3,   5,   4,   3508,   0,    510000],\n",
    "         [ 4,   4,   2,   2462,   0,    539000],\n",
    "         [ 2,   3,   3,   2325,   0,    660000],\n",
    "         [ 2,   2,   1,    795,   1,     69000],\n",
    "         [ 1,   4,   2,   1099,   0,     70000],\n",
    "         [ 3,   2,   1,    840,   1,     71000],\n",
    "         [ 2,   2,   1,    800,   0,     78000],\n",
    "         [ 3,   2,   1,    746,   0,     78400],\n",
    "         [ 3,   3,   1,   1067,   0,     80000],\n",
    "         [ 2,   4,   2,   1316,   0,     89000],\n",
    "         [ 2,   3,   1,   1337,   0,     90000],\n",
    "         [ 3,   2,   1,    868,   0,     90000],\n",
    "         [ 3,   3,   1,    924,   0,     92000],\n",
    "         [ 3,   2,   1,    610,   0,     93675],\n",
    "         [ 2,   2,   1,   1220,   0,     98000],\n",
    "         [ 3,   1,   1,    722,   1,     98000],\n",
    "         [ 2,   3,   1,   1643,   0,     99000],\n",
    "         [ 3,   1,   1,    722,   1,    100000],\n",
    "         [ 3,   3,   1,   1080,   0,    106716],\n",
    "         [ 3,   3,   1,   1039,   0,    111000],\n",
    "         [ 2,   3,   1,   1051,   0,    111000],\n",
    "         [ 2,   2,   2,    967,   0,    114800],\n",
    "         [ 2,   3,   1,   1098,   0,    120108],\n",
    "         [ 3,   3,   1,   1050,   0,    123225],\n",
    "         [ 2,   3,   2,   1110,   0,    123750],\n",
    "         [ 2,   3,   1,    888,   0,    125000],\n",
    "         [ 3,   3,   2,   1120,   0,    125000],\n",
    "         [ 2,   3,   2,   1080,   0,    126000],\n",
    "         [ 2,   3,   1,    957,   0,    129000],\n",
    "         [ 2,   2,   1,    952,   0,    134000],\n",
    "         [ 2,   3,   2,   1211,   0,    135000],\n",
    "         [ 2,   3,   2,   1264,   0,    135500],\n",
    "         [ 2,   3,   1,   1080,   0,    140000],\n",
    "         [ 3,   3,   2,   1266,   0,    140000],\n",
    "         [ 2,   2,   2,    994,   1,    142500],\n",
    "         [ 2,   3,   2,   1202,   0,    143500],\n",
    "         [ 3,   2,   1,    722,   0,    145000],\n",
    "         [ 3,   4,   2,   1448,   0,    145000],\n",
    "         [ 3,   3,   2,   1188,   0,    145000],\n",
    "         [ 2,   4,   2,   1183,   0,    146000],\n",
    "         [ 3,   3,   1,   1320,   0,    148500],\n",
    "         [ 3,   3,   2,   1117,   0,    149000],\n",
    "         [ 3,   3,   2,   1364,   0,    150000],\n",
    "         [ 3,   4,   2,   1310,   0,    150000],\n",
    "         [ 3,   2,   2,   1006,   0,    152000],\n",
    "         [ 2,   3,   2,   1104,   0,    156000],\n",
    "         [ 2,   2,   1,    810,   0,    156000],\n",
    "         [ 3,   2,   2,   1123,   0,    156000],\n",
    "         [ 2,   2,   1,    904,   0,    157788],\n",
    "         [ 2,   3,   2,   1156,   0,    161653],\n",
    "         [ 3,   2,   1,   1321,   0,    161829],\n",
    "         [ 2,   3,   2,   1392,   0,    165000],\n",
    "         [ 3,   3,   2,   1439,   0,    168000],\n",
    "         [ 2,   3,   2,   1159,   0,    169000],\n",
    "         [ 2,   3,   2,   1671,   0,    175000],\n",
    "         [ 3,   3,   2,   1740,   0,    176250],\n",
    "         [ 3,   3,   2,   1265,   0,    179000],\n",
    "         [ 2,   2,   2,   1007,   0,    180000],\n",
    "         [ 3,   3,   2,   1716,   0,    180400],\n",
    "         [ 3,   4,   2,   1685,   0,    182000],\n",
    "         [ 2,   4,   2,   1829,   0,    184500],\n",
    "         [ 3,   3,   2,   1555,   0,    185000],\n",
    "         [ 2,   4,   2,   1120,   0,    189000],\n",
    "         [ 2,   3,   2,   1137,   0,    194000],\n",
    "         [ 3,   3,   1,   1174,   0,    195000],\n",
    "         [ 2,   3,   2,   1393,   0,    200000],\n",
    "         [ 3,   3,   2,   1289,   0,    205000],\n",
    "         [ 2,   4,   2,   1799,   0,    205000],\n",
    "         [ 3,   4,   3,   1953,   0,    205000],\n",
    "         [ 3,   2,   1,    723,   0,    207000],\n",
    "         [ 2,   4,   2,   1578,   0,    215000],\n",
    "         [ 2,   3,   2,   1317,   0,    215000],\n",
    "         [ 3,   3,   1,   1360,   0,    222381],\n",
    "         [ 2,   3,   2,   1522,   0,    225000],\n",
    "         [ 2,   4,   2,   1751,   0,    225000],\n",
    "         [ 3,   3,   2,   1465,   0,    225000],\n",
    "         [ 3,   4,   2,   1605,   0,    228000],\n",
    "         [ 2,   4,   2,   1475,   0,    229665],\n",
    "         [ 4,   3,   1,   1216,   0,    230000],\n",
    "         [ 2,   2,   2,   1315,   0,    230000],\n",
    "         [ 3,   3,   2,   1567,   0,    230000],\n",
    "         [ 2,   3,   2,   1776,   0,    234000],\n",
    "         [ 2,   3,   2,   2187,   0,    235000],\n",
    "         [ 3,   3,   1,   1291,   0,    236250],\n",
    "         [ 2,   3,   2,   1503,   0,    245000],\n",
    "         [ 3,   4,   3,   2491,   0,    245000],\n",
    "         [ 1,   2,   1,   1269,   0,    245000],\n",
    "         [ 2,   3,   2,   1176,   0,    250000],\n",
    "         [ 2,   4,   2,   1456,   0,    250000],\n",
    "         [ 4,   3,   2,   1498,   0,    250000],\n",
    "         [ 2,   3,   2,   1574,   0,    255000],\n",
    "         [ 3,   3,   2,   2170,   0,    257729],\n",
    "         [ 3,   4,   2,   1595,   0,    260000],\n",
    "         [ 2,   3,   2,   1567,   0,    261000],\n",
    "         [ 3,   4,   2,   1253,   0,    264469],\n",
    "         [ 2,   4,   3,   1768,   0,    265000],\n",
    "         [ 2,   4,   3,   2030,   0,    270000],\n",
    "         [ 2,   3,   2,   1531,   0,    270000],\n",
    "         [ 3,   4,   3,   1653,   0,    275000],\n",
    "         [ 3,   4,   2,   2056,   0,    275000],\n",
    "         [ 3,   4,   3,   2494,   0,    280000],\n",
    "         [ 2,   3,   2,   1450,   0,    286013],\n",
    "         [ 2,   4,   2,   2169,   0,    292000],\n",
    "         [ 4,   3,   2,   1440,   0,    292000],\n",
    "         [ 2,   3,   2,   1527,   0,    293993],\n",
    "         [ 4,   3,   2,   1401,   0,    294000],\n",
    "         [ 2,   3,   2,   1411,   0,    296769],\n",
    "         [ 2,   3,   1,   1284,   0,    300000],\n",
    "         [ 3,   4,   3,   2307,   0,    300000],\n",
    "         [ 2,   4,   2,   1910,   0,    300500],\n",
    "         [ 2,   3,   2,   1981,   0,    305000],\n",
    "         [ 3,   4,   2,   2205,   0,    319789],\n",
    "         [ 4,   2,   2,   1449,   0,    330000],\n",
    "         [ 4,   3,   2,   1258,   0,    330000],\n",
    "         [ 3,   3,   2,   2575,   0,    331000],\n",
    "         [ 3,   2,   1,    539,   0,    334000],\n",
    "         [ 2,   4,   3,   2208,   0,    336000],\n",
    "         [ 1,   3,   1,   1108,   0,    339000],\n",
    "         [ 4,   4,   2,   1595,   0,    339000],\n",
    "         [ 3,   4,   2,   2159,   0,    345000],\n",
    "         [ 4,   3,   2,   1838,   0,    356000],\n",
    "         [ 3,   4,   2,   1900,   0,    361745],\n",
    "         [ 1,   4,   2,   1718,   0,    361948],\n",
    "         [ 3,   5,   3,   3389,   0,    370000],\n",
    "         [ 3,   5,   4,   3260,   0,    385000],\n",
    "         [ 4,   3,   2,   2016,   0,    399000],\n",
    "         [ 4,   4,   2,   2607,   0,    402000],\n",
    "         [ 3,   4,   3,   2724,   0,    406026],\n",
    "         [ 3,   5,   4,   3746,   0,    420000],\n",
    "         [ 2,   4,   2,   3192,   0,    425000],\n",
    "         [ 1,   2,   1,   1247,   0,    445000],\n",
    "         [ 4,   4,   2,   2581,   0,    450000],\n",
    "         [ 2,   3,   1,   2068,   0,    460000],\n",
    "         [ 3,   4,   3,   3992,   0,    460000],\n",
    "         [ 2,   4,   4,   3397,   0,    465000],\n",
    "         [ 2,   5,   3,   3881,   0,    471750],\n",
    "         [ 2,   2,   2,   1598,   0,    484000],\n",
    "         [ 3,   4,   3,   3070,   0,    495000],\n",
    "         [ 3,   5,   3,   3984,   0,    572500],\n",
    "         [ 2,   4,   2,   2222,   0,    582000],\n",
    "         [ 4,   4,   3,   3838,   0,    613401],\n",
    "         [ 2,   5,   5,   2846,   0,    680000],\n",
    "         [ 1,   5,   2,   2484,   0,    699000],\n",
    "         [ 2,   3,   1,    970,   0,     61500],\n",
    "         [ 1,   2,   1,    623,   0,     62050],\n",
    "         [ 3,   2,   1,    932,   0,     65000],\n",
    "         [ 2,   2,   1,    796,   0,     65000],\n",
    "         [ 3,   2,   1,    834,   0,     68000],\n",
    "         [ 3,   2,   1,    834,   0,     68000],\n",
    "         [ 2,   2,   1,    924,   1,     77000],\n",
    "         [ 2,   2,   1,    795,   1,     82732],\n",
    "         [ 2,   3,   1,   1250,   0,     84000],\n",
    "         [ 3,   2,   1,    984,   0,     84675],\n",
    "         [ 3,   3,   1,   1013,   0,     85000],\n",
    "         [ 3,   3,   1,   1012,   0,     90000],\n",
    "         [ 3,   2,   1,    795,   1,     90000],\n",
    "         [ 2,   2,   2,    918,   0,     91000],\n",
    "         [ 2,   3,   1,   1082,   0,     95000],\n",
    "         [ 2,   2,   1,    964,   0,     97500],\n",
    "         [ 3,   1,   1,    625,   1,    100000],\n",
    "         [ 2,   2,   1,    888,   0,    101000],\n",
    "         [ 2,   4,   2,   1120,   0,    102750],\n",
    "         [ 2,   3,   1,   1331,   0,    112500],\n",
    "         [ 2,   3,   1,   1014,   0,    113000],\n",
    "         [ 3,   4,   2,   1448,   0,    114000],\n",
    "         [ 2,   3,   1,    966,   0,    114000],\n",
    "         [ 3,   2,   1,    779,   0,    114750],\n",
    "         [ 2,   2,   2,    836,   1,    115000],\n",
    "         [ 4,   2,   2,   1100,   1,    115000],\n",
    "         [ 3,   3,   1,   1174,   0,    116100],\n",
    "         [ 2,   3,   2,   1207,   0,    119250],\n",
    "         [ 3,   2,   1,    804,   0,    120000],\n",
    "         [ 2,   2,   2,    958,   1,    120000],\n",
    "         [ 3,   3,   2,   1366,   0,    120108],\n",
    "         [ 3,   2,   2,    901,   0,    121500],\n",
    "         [ 2,   3,   1,    696,   0,    121725],\n",
    "         [ 3,   3,   2,   1080,   0,    122000],\n",
    "         [ 3,   3,   2,   1104,   0,    123000],\n",
    "         [ 2,   2,   1,    972,   0,    125000],\n",
    "         [ 2,   4,   2,   1390,   0,    125573],\n",
    "         [ 2,   4,   2,   1354,   0,    126714],\n",
    "         [ 3,   2,   1,    795,   1,    126960],\n",
    "         [ 4,   2,   1,    780,   1,    127000],\n",
    "         [ 3,   4,   2,   1587,   0,    127500],\n",
    "         [ 2,   3,   2,   1209,   0,    130000],\n",
    "         [ 3,   2,   1,   1139,   0,    133105],\n",
    "         [ 2,   2,   2,   1690,   0,    136500],\n",
    "         [ 2,   3,   2,   1245,   1,    139500],\n",
    "         [ 2,   3,   2,   1416,   0,    140000],\n",
    "         [ 3,   3,   2,   1300,   0,    140800],\n",
    "         [ 3,   3,   2,   1120,   0,    145000],\n",
    "         [ 3,   4,   2,   1590,   0,    147000],\n",
    "         [ 3,   3,   2,   1407,   0,    149600],\n",
    "         [ 3,   5,   2,   1516,   0,    150000],\n",
    "         [ 3,   3,   2,   1646,   0,    150000],\n",
    "         [ 3,   3,   2,   1676,   0,    155000],\n",
    "         [ 2,   3,   2,   1370,   0,    155435],\n",
    "         [ 2,   3,   2,   1370,   0,    155500],\n",
    "         [ 2,   4,   2,   1351,   0,    158000],\n",
    "         [ 2,   3,   2,   1152,   0,    158000],\n",
    "         [ 3,   3,   2,   1452,   0,    160000],\n",
    "         [ 4,   2,   1,    990,   0,    160000],\n",
    "         [ 2,   2,   2,   1162,   0,    164000],\n",
    "         [ 2,   3,   2,   1182,   0,    164000],\n",
    "         [ 3,   2,   2,   1112,   0,    165000],\n",
    "         [ 3,   3,   2,   1100,   0,    167000],\n",
    "         [ 2,   4,   2,   1280,   0,    167293],\n",
    "         [ 2,   4,   2,   1280,   0,    167293],\n",
    "         [ 3,   3,   1,   1039,   0,    168000],\n",
    "         [ 2,   3,   2,   1159,   0,    170000],\n",
    "         [ 2,   4,   2,   1917,   0,    170000],\n",
    "         [ 2,   3,   2,   1520,   0,    170000],\n",
    "         [ 3,   3,   2,   1204,   0,    174000],\n",
    "         [ 2,   3,   2,   1120,   0,    178000],\n",
    "         [ 3,   3,   2,   1436,   0,    180000],\n",
    "         [ 3,   3,   2,   1451,   0,    180000],\n",
    "         [ 3,   4,   2,   1638,   0,    180000],\n",
    "         [ 2,   2,   2,   1000,   1,    182000],\n",
    "         [ 4,   3,   1,   1152,   0,    188325],\n",
    "         [ 4,   3,   2,   1154,   0,    191500],\n",
    "         [ 2,   3,   2,   1353,   0,    192000],\n",
    "         [ 2,   3,   2,   1329,   0,    192700],\n",
    "         [ 3,   3,   1,   1356,   0,    195000],\n",
    "         [ 2,   3,   2,   1505,   0,    197654],\n",
    "         [ 2,   3,   1,   1009,   0,    198000],\n",
    "         [ 3,   3,   2,   1144,   0,    200345],\n",
    "         [ 2,   2,   1,    930,   0,    203000],\n",
    "         [ 2,   4,   2,   1766,   0,    207000],\n",
    "         [ 3,   4,   3,   1940,   0,    208000],\n",
    "         [ 3,   4,   2,   1776,   0,    210000],\n",
    "         [ 2,   3,   1,   1258,   0,    212000],\n",
    "         [ 3,   4,   2,   1872,   0,    213675],\n",
    "         [ 3,   2,   2,   1112,   0,    213697],\n",
    "         [ 2,   4,   2,   1856,   0,    215000],\n",
    "         [ 1,   4,   3,   1939,   0,    215000],\n",
    "         [ 4,   3,   1,    998,   0,    215100],\n",
    "         [ 4,   3,   2,   1758,   0,    217500],\n",
    "         [ 2,   3,   2,   2142,   0,    218000],\n",
    "         [ 3,   2,   1,    950,   0,    220000],\n",
    "         [ 3,   4,   3,   1739,   0,    221000],\n",
    "         [ 3,   3,   2,   1516,   0,    222900],\n",
    "         [ 2,   3,   1,    988,   0,    223139],\n",
    "         [ 3,   4,   2,   1555,   0,    225500],\n",
    "         [ 3,   3,   2,   1212,   0,    228327],\n",
    "         [ 2,   4,   2,   1871,   0,    230000],\n",
    "         [ 3,   3,   2,   1302,   0,    230000],\n",
    "         [ 2,   2,   1,    756,   1,    230522],\n",
    "         [ 2,   4,   3,   2026,   0,    231200],\n",
    "         [ 3,   3,   2,   1375,   0,    232000],\n",
    "         [ 2,   2,   2,   1250,   1,    232500],\n",
    "         [ 3,   3,   1,   1058,   0,    233641],\n",
    "         [ 2,   3,   2,   1187,   0,    234000],\n",
    "         [ 3,   2,   2,   1324,   0,    234500],\n",
    "         [ 3,   4,   3,   1936,   0,    235000],\n",
    "         [ 4,   3,   2,   1427,   0,    236073],\n",
    "         [ 2,   3,   2,   1678,   1,    238000],\n",
    "         [ 3,   4,   2,   1798,   0,    238861],\n",
    "         [ 2,   4,   3,   2652,   0,    239700],\n",
    "         [ 3,   4,   2,   1816,   0,    240000],\n",
    "         [ 2,   5,   3,   3076,   0,    240000],\n",
    "         [ 3,   4,   2,   1844,   0,    241000],\n",
    "         [ 3,   3,   2,   1306,   0,    245000],\n",
    "         [ 2,   4,   3,   2447,   0,    246000],\n",
    "         [ 3,   4,   2,   1176,   0,    247234],\n",
    "         [ 2,   4,   2,   1182,   0,    247480],\n",
    "         [ 2,   3,   1,   1160,   0,    249862],\n",
    "         [ 2,   3,   2,   1424,   0,    251000],\n",
    "         [ 2,   4,   2,   1574,   0,    252155],\n",
    "         [ 2,   3,   2,   1830,   0,    254172],\n",
    "         [ 3,   4,   2,   1724,   0,    258000],\n",
    "         [ 4,   2,   2,   1255,   1,    260000],\n",
    "         [ 2,   4,   3,   2175,   0,    261000],\n",
    "         [ 2,   4,   2,   1904,   0,    261000],\n",
    "         [ 4,   4,   2,   1808,   0,    262500],\n",
    "         [ 2,   4,   2,   2711,   0,    266000],\n",
    "         [ 2,   3,   1,   1713,   0,    266000],\n",
    "         [ 3,   3,   2,   1457,   0,    270000],\n",
    "         [ 3,   4,   3,   2724,   0,    274425],\n",
    "         [ 3,   3,   2,   1468,   0,    275336],\n",
    "         [ 2,   4,   3,   2550,   0,    277980],\n",
    "         [ 3,   4,   2,   1928,   0,    280000],\n",
    "         [ 1,   3,   3,   1922,   0,    284686],\n",
    "         [ 2,   3,   2,   1343,   0,    284893],\n",
    "         [ 4,   3,   2,   1510,   0,    285000],\n",
    "         [ 2,   4,   2,   1559,   0,    285000],\n",
    "         [ 3,   5,   3,   2992,   0,    295000],\n",
    "         [ 3,   4,   2,   2109,   0,    296000],\n",
    "         [ 2,   4,   2,   1524,   0,    296056],\n",
    "         [ 3,   3,   2,   1248,   0,    297359],\n",
    "         [ 3,   4,   2,   1876,   0,    299940],\n",
    "         [ 2,   4,   3,   1851,   0,    305000],\n",
    "         [ 2,   4,   2,   2218,   0,    311328],\n",
    "         [ 3,   3,   2,   1394,   0,    313138],\n",
    "         [ 3,   3,   2,   1410,   0,    316630],\n",
    "         [ 3,   5,   3,   3468,   0,    320000],\n",
    "         [ 2,   5,   3,   2346,   0,    320000],\n",
    "         [ 2,   5,   3,   2347,   0,    325000],\n",
    "         [ 2,   4,   2,   1659,   0,    328578],\n",
    "         [ 3,   3,   3,   2442,   0,    331000],\n",
    "         [ 2,   4,   2,   2155,   0,    340000],\n",
    "         [ 3,   3,   2,   1810,   0,    345746],\n",
    "         [ 3,   4,   2,   2789,   0,    351000],\n",
    "         [ 3,   4,   2,   1606,   0,    353767],\n",
    "         [ 2,   4,   2,   2166,   0,    356035],\n",
    "         [ 2,   4,   2,   1871,   0,    360552],\n",
    "         [ 2,   3,   2,   1800,   0,    362305],\n",
    "         [ 1,   3,   1,   1683,   0,    365000],\n",
    "         [ 4,   2,   2,   1596,   0,    370000],\n",
    "         [ 3,   3,   2,   1179,   0,    378000],\n",
    "         [ 1,   3,   1,   1639,   0,    388000],\n",
    "         [ 2,   5,   3,   3281,   0,    395100],\n",
    "         [ 1,   3,   2,   1697,   0,    400000],\n",
    "         [ 2,   4,   3,   2085,   0,    408431],\n",
    "         [ 4,   4,   3,   1939,   0,    423000],\n",
    "         [ 1,   2,   3,   1788,   0,    427500],\n",
    "         [ 4,   3,   2,   1691,   0,    430922],\n",
    "         [ 3,   4,   2,   2002,   0,    445000],\n",
    "         [ 3,   4,   4,   4303,   0,    450000],\n",
    "         [ 2,   5,   3,   4246,   0,    452000],\n",
    "         [ 4,   3,   2,   2274,   0,    470000],\n",
    "         [ 2,   4,   4,   3056,   0,    475000],\n",
    "         [ 3,   3,   3,   2503,   0,    484500],\n",
    "         [ 4,   3,   2,   1905,   0,    500000],\n",
    "         [ 4,   3,   2,   1320,   0,    506688],\n",
    "         [ 2,   4,   2,   3037,   0,    528000],\n",
    "         [ 3,   5,   2,   3741,   0,    579093],\n",
    "         [ 4,   4,   3,   2660,   0,    636000],\n",
    "         [ 2,   4,   3,   3357,   0,    668365],\n",
    "         [ 4,   5,   3,   2896,   0,    676200],\n",
    "         [ 3,   5,   3,   3788,   0,    691659],\n",
    "         [ 3,   2,   1,    838,   0,     55422],\n",
    "         [ 2,   2,   1,    904,   0,     63000],\n",
    "         [ 2,   2,   1,   1032,   0,     65000],\n",
    "         [ 2,   2,   1,    904,   0,     65000],\n",
    "         [ 1,   2,   1,   1080,   0,     65000],\n",
    "         [ 3,   2,   2,    990,   0,     66500],\n",
    "         [ 2,   2,   1,    900,   0,     71000],\n",
    "         [ 3,   2,   1,    861,   0,     75000],\n",
    "         [ 3,   2,   1,    906,   1,     77000],\n",
    "         [ 2,   2,   1,   1011,   0,     85000],\n",
    "         [ 3,   3,   2,   1089,   0,     95625],\n",
    "         [ 2,   2,   1,    832,   0,     96140],\n",
    "         [ 3,   2,   1,    800,   1,    104250],\n",
    "         [ 2,   4,   2,   1292,   0,    105000],\n",
    "         [ 3,   2,   1,    810,   0,    108000],\n",
    "         [ 2,   4,   2,   1064,   0,    109000],\n",
    "         [ 2,   2,   1,    911,   0,    115000],\n",
    "         [ 2,   1,   1,    846,   1,    115000],\n",
    "         [ 2,   3,   2,   1320,   0,    115500],\n",
    "         [ 2,   3,   2,   1410,   0,    115620],\n",
    "         [ 2,   3,   2,   1115,   0,    116000],\n",
    "         [ 3,   3,   2,   1169,   0,    122000],\n",
    "         [ 3,   3,   2,   1164,   0,    122500],\n",
    "         [ 3,   4,   2,   1341,   0,    123000],\n",
    "         [ 2,   3,   2,   1219,   0,    124000],\n",
    "         [ 2,   4,   2,   1127,   0,    124000],\n",
    "         [ 2,   3,   2,   1272,   0,    124413],\n",
    "         [ 3,   4,   2,   1253,   0,    125000],\n",
    "         [ 3,   3,   2,   1120,   0,    130000],\n",
    "         [ 2,   2,   2,   1118,   0,    131750],\n",
    "         [ 2,   4,   3,   1890,   0,    137721],\n",
    "         [ 2,   3,   2,   1260,   0,    137760],\n",
    "         [ 3,   3,   2,   1400,   0,    138000],\n",
    "         [ 2,   3,   1,   1264,   0,    140000],\n",
    "         [ 3,   3,   1,   1060,   0,    145000],\n",
    "         [ 3,   2,   2,   1132,   0,    145000],\n",
    "         [ 3,   3,   2,   1466,   0,    150000],\n",
    "         [ 2,   3,   2,   1092,   0,    150000],\n",
    "         [ 3,   4,   2,   1628,   0,    151000],\n",
    "         [ 2,   3,   2,    960,   0,    155000],\n",
    "         [ 2,   3,   2,   1075,   0,    155800],\n",
    "         [ 3,   3,   2,   1428,   0,    156142],\n",
    "         [ 3,   4,   2,   1358,   0,    158000],\n",
    "         [ 2,   3,   2,   1410,   0,    160000],\n",
    "         [ 2,   3,   2,   1711,   0,    161500],\n",
    "         [ 3,   4,   2,   1483,   0,    161600],\n",
    "         [ 3,   3,   2,   1140,   0,    162000],\n",
    "         [ 3,   4,   2,   1549,   0,    165000],\n",
    "         [ 3,   3,   2,   1410,   0,    165000],\n",
    "         [ 3,   3,   2,   1240,   0,    167293],\n",
    "         [ 2,   5,   2,   1712,   0,    168000],\n",
    "         [ 3,   4,   2,   1580,   0,    168000],\n",
    "         [ 2,   3,   2,   1669,   0,    168750],\n",
    "         [ 3,   3,   1,   1029,   0,    168750],\n",
    "         [ 2,   3,   1,   1103,   0,    170000],\n",
    "         [ 3,   3,   2,   2161,   0,    170250],\n",
    "         [ 3,   3,   2,   1650,   0,    173000],\n",
    "         [ 3,   3,   2,   1200,   0,    176095],\n",
    "         [ 2,   3,   2,   1170,   0,    176250],\n",
    "         [ 2,   3,   2,   1199,   0,    178000],\n",
    "         [ 3,   4,   2,   1695,   0,    179000],\n",
    "         [ 2,   3,   2,   1157,   0,    180000],\n",
    "         [ 2,   3,   2,   1410,   0,    180000],\n",
    "         [ 4,   3,   2,   1174,   0,    180000],\n",
    "         [ 3,   3,   2,   1593,   0,    181000],\n",
    "         [ 2,   3,   2,   1093,   0,    182000],\n",
    "         [ 4,   3,   2,   1770,   0,    182587],\n",
    "         [ 3,   4,   2,   1436,   0,    185074],\n",
    "         [ 3,   3,   2,   1124,   0,    185833],\n",
    "         [ 3,   4,   2,   1139,   0,    186785],\n",
    "         [ 3,   3,   2,   1638,   0,    187000],\n",
    "         [ 2,   3,   2,   1328,   0,    188335],\n",
    "         [ 3,   3,   2,   1273,   0,    190000],\n",
    "         [ 2,   3,   1,   1082,   0,    190000],\n",
    "         [ 2,   4,   2,   1578,   0,    190000],\n",
    "         [ 4,   2,   1,    796,   0,    190000],\n",
    "         [ 3,   3,   2,   1386,   0,    191250],\n",
    "         [ 2,   3,   2,   1452,   0,    193000],\n",
    "         [ 3,   3,   2,   1513,   0,    193500],\n",
    "         [ 2,   4,   2,   1578,   0,    195000],\n",
    "         [ 2,   4,   3,   1736,   0,    195000],\n",
    "         [ 2,   3,   1,   1473,   0,    195000],\n",
    "         [ 3,   3,   1,   1150,   0,    198000],\n",
    "         [ 2,   3,   2,   1127,   0,    199900],\n",
    "         [ 2,   3,   1,   1144,   0,    200000],\n",
    "         [ 2,   3,   1,    972,   0,    201000],\n",
    "         [ 3,   4,   2,   2306,   0,    204918],\n",
    "         [ 2,   3,   2,   1479,   0,    205000],\n",
    "         [ 2,   3,   2,   1430,   0,    205878],\n",
    "         [ 3,   4,   2,   1800,   0,    207000],\n",
    "         [ 2,   4,   2,   1953,   0,    207744],\n",
    "         [ 2,   3,   2,   1120,   0,    209000],\n",
    "         [ 2,   3,   2,   1232,   0,    210000],\n",
    "         [ 2,   1,   1,    984,   1,    210944],\n",
    "         [ 3,   4,   2,   2329,   0,    213750],\n",
    "         [ 3,   3,   2,   1351,   0,    215000],\n",
    "         [ 4,   4,   1,   1376,   0,    215000],\n",
    "         [ 2,   4,   2,   1566,   0,    220000],\n",
    "         [ 1,   2,   1,   1115,   0,    220000],\n",
    "         [ 1,   2,   1,   1032,   0,    220000],\n",
    "         [ 2,   4,   2,   1419,   0,    220000],\n",
    "         [ 3,   3,   2,   1261,   0,    220000],\n",
    "         [ 2,   2,   2,   1637,   0,    220702],\n",
    "         [ 3,   3,   2,   1338,   0,    222000],\n",
    "         [ 3,   5,   2,   2254,   0,    222750],\n",
    "         [ 2,   3,   2,   1441,   0,    225000],\n",
    "         [ 2,   4,   2,   1991,   0,    225000],\n",
    "         [ 3,   4,   3,   2126,   0,    228750],\n",
    "         [ 3,   3,   2,   1094,   0,    229000],\n",
    "         [ 4,   3,   2,   1462,   0,    230095],\n",
    "         [ 2,   5,   3,   2258,   0,    232500],\n",
    "         [ 2,   3,   2,   1074,   0,    233000],\n",
    "         [ 3,   4,   2,   2111,   0,    233500],\n",
    "         [ 2,   3,   2,   1686,   0,    239000],\n",
    "         [ 2,   4,   3,   1915,   0,    240000],\n",
    "         [ 3,   4,   2,   2367,   0,    240000],\n",
    "         [ 3,   3,   2,   1962,   0,    240971],\n",
    "         [ 2,   2,   2,   1406,   0,    242000],\n",
    "         [ 3,   3,   2,   1789,   0,    243450],\n",
    "         [ 2,   4,   2,   1876,   0,    243500],\n",
    "         [ 2,   3,   2,   1235,   0,    246544],\n",
    "         [ 2,   4,   2,   2504,   0,    246750],\n",
    "         [ 2,   3,   2,   1676,   0,    247000],\n",
    "         [ 2,   3,   2,   1367,   0,    249000],\n",
    "         [ 3,   4,   3,   1899,   0,    249000],\n",
    "         [ 3,   3,   2,   1636,   0,    250000],\n",
    "         [ 2,   3,   2,   1828,   0,    250000],\n",
    "         [ 3,   4,   2,   1438,   0,    252000],\n",
    "         [ 3,   3,   2,   1451,   0,    255000],\n",
    "         [ 2,   3,   1,   1520,   0,    255000],\n",
    "         [ 4,   3,   2,   1506,   0,    255000],\n",
    "         [ 2,   4,   2,   2605,   0,    257200],\n",
    "         [ 2,   3,   2,   1196,   0,    260000],\n",
    "         [ 4,   3,   2,   1621,   0,    260000],\n",
    "         [ 2,   3,   2,   1811,   0,    263500],\n",
    "         [ 3,   3,   2,   1540,   0,    266510],\n",
    "         [ 3,   3,   2,   1543,   0,    275000],\n",
    "         [ 2,   5,   3,   2494,   0,    276000],\n",
    "         [ 4,   3,   2,   1650,   0,    276500],\n",
    "         [ 3,   4,   3,   2214,   0,    278000],\n",
    "         [ 2,   5,   3,   2280,   0,    279000],\n",
    "         [ 2,   3,   2,   1443,   0,    280000],\n",
    "         [ 2,   4,   2,   1582,   0,    280000],\n",
    "         [ 3,   3,   2,   1857,   0,    285000],\n",
    "         [ 3,   3,   2,   1735,   0,    288000],\n",
    "         [ 3,   4,   3,   2096,   0,    289000],\n",
    "         [ 2,   3,   2,   1720,   0,    290000],\n",
    "         [ 2,   4,   2,   2160,   0,    290000],\n",
    "         [ 2,   4,   2,   1382,   0,    293996],\n",
    "         [ 3,   4,   2,   1721,   0,    294173],\n",
    "         [ 4,   4,   2,   1328,   0,    295000],\n",
    "         [ 3,   4,   2,   1982,   0,    298000],\n",
    "         [ 1,   2,   1,   1144,   0,    299000],\n",
    "         [ 2,   2,   2,   1623,   0,    300000],\n",
    "         [ 4,   3,   2,   1457,   0,    300000],\n",
    "         [ 3,   6,   3,   2555,   0,    300000],\n",
    "         [ 4,   3,   2,   1577,   0,    300567],\n",
    "         [ 3,   5,   3,   2592,   0,    303000],\n",
    "         [ 2,   3,   2,   1401,   0,    305000],\n",
    "         [ 2,   3,   2,   1502,   0,    310000],\n",
    "         [ 4,   3,   2,   1327,   0,    310000],\n",
    "         [ 4,   4,   3,   1800,   0,    310000],\n",
    "         [ 3,   4,   2,   2169,   0,    311518],\n",
    "         [ 4,   5,   3,   2457,   0,    312000],\n",
    "         [ 2,   4,   2,   2004,   0,    315000],\n",
    "         [ 4,   4,   3,   2212,   0,    315000],\n",
    "         [ 2,   5,   3,   3134,   0,    315000],\n",
    "         [ 2,   3,   2,   1360,   0,    315000],\n",
    "         [ 3,   3,   2,   1276,   0,    320000],\n",
    "         [ 2,   4,   3,   2962,   0,    322000],\n",
    "         [ 4,   4,   2,   1888,   0,    325000],\n",
    "         [ 3,   3,   2,   1548,   0,    328370],\n",
    "         [ 2,   4,   3,   2109,   0,    330000],\n",
    "         [ 2,   4,   2,   2484,   0,    331200],\n",
    "         [ 2,   4,   3,   2258,   0,    332000],\n",
    "         [ 2,   3,   3,   2212,   0,    334000],\n",
    "         [ 2,   3,   2,   1616,   0,    335000],\n",
    "         [ 2,   4,   2,   2372,   0,    341000],\n",
    "         [ 4,   5,   3,   2606,   0,    346375],\n",
    "         [ 3,   5,   3,   2877,   0,    349000],\n",
    "         [ 2,   3,   2,   2960,   0,    350000],\n",
    "         [ 4,   3,   2,   2172,   0,    350000],\n",
    "         [ 4,   3,   2,   2100,   1,    350000],\n",
    "         [ 3,   3,   2,   1795,   0,    351000],\n",
    "         [ 4,   4,   2,   2295,   0,    360000],\n",
    "         [ 4,   4,   3,   2577,   0,    367463],\n",
    "         [ 3,   3,   1,   1727,   0,    380000],\n",
    "         [ 3,   3,   2,   1485,   0,    380578],\n",
    "         [ 2,   3,   2,   1655,   0,    386222],\n",
    "         [ 4,   3,   2,   2049,   0,    395500],\n",
    "         [ 3,   5,   3,   2875,   0,    397000],\n",
    "         [ 4,   4,   2,   2199,   0,    400000],\n",
    "         [ 1,   2,   1,   1304,   0,    413500],\n",
    "         [ 2,   3,   2,   2334,   0,    415000],\n",
    "         [ 4,   4,   3,   2278,   0,    420454],\n",
    "         [ 1,   3,   1,   1493,   0,    425000],\n",
    "         [ 4,   5,   3,   2787,   0,    441000],\n",
    "         [ 3,   5,   3,   2824,   0,    445000],\n",
    "         [ 4,   4,   3,   3261,   0,    446000],\n",
    "         [ 2,   4,   2,   2053,   0,    450000],\n",
    "         [ 4,   4,   3,   2379,   0,    455000],\n",
    "         [ 2,   3,   2,   3173,   0,    525000],\n",
    "         [ 2,   3,   1,   1348,   0,    545000],\n",
    "         [ 1,   2,   1,   1252,   0,    575000],\n",
    "         [ 4,   4,   3,   3229,   0,    575000],\n",
    "         [ 3,   5,   4,   3863,   0,    598695],\n",
    "         [ 4,   4,   3,   2356,   0,    600000],\n",
    "         [ 4,   5,   3,   3579,   0,    610000],\n",
    "         [ 3,   4,   2,   1512,   0,     56950],\n",
    "         [ 3,   1,   1,    611,   1,     60000],\n",
    "         [ 3,   2,   1,    876,   0,     61000],\n",
    "         [ 2,   2,   1,    933,   1,     62000],\n",
    "         [ 3,   2,   1,    864,   0,     68566],\n",
    "         [ 2,   2,   1,   1011,   0,     70000],\n",
    "         [ 2,   4,   2,   1158,   0,     80000],\n",
    "         [ 2,   3,   2,   1092,   0,     85500],\n",
    "         [ 2,   2,   1,    956,   1,     92000],\n",
    "         [ 3,   2,   2,   1139,   0,     93600],\n",
    "         [ 3,   3,   1,   1058,   0,     95000],\n",
    "         [ 2,   3,   2,   1040,   0,     97750],\n",
    "         [ 3,   3,   2,   1354,   0,    104000],\n",
    "         [ 2,   3,   1,   1051,   0,    105000],\n",
    "         [ 2,   1,   1,    682,   1,    107666],\n",
    "         [ 3,   3,   1,   1161,   0,    109000],\n",
    "         [ 2,   3,   1,   1004,   0,    110000],\n",
    "         [ 2,   3,   1,   1229,   0,    110000],\n",
    "         [ 3,   3,   2,   1249,   0,    112500],\n",
    "         [ 3,   3,   2,   1161,   0,    114800],\n",
    "         [ 3,   3,   1,   1010,   0,    116000],\n",
    "         [ 3,   4,   2,   1462,   0,    121500],\n",
    "         [ 3,   3,   2,   1269,   0,    122000],\n",
    "         [ 3,   2,   2,   1188,   0,    123675],\n",
    "         [ 2,   4,   2,   1570,   0,    126854],\n",
    "         [ 1,   3,   2,   1093,   0,    127059],\n",
    "         [ 3,   3,   1,    962,   0,    128687],\n",
    "         [ 3,   3,   2,   1089,   0,    129500],\n",
    "         [ 3,   3,   2,   1127,   0,    130000],\n",
    "         [ 3,   4,   2,   1309,   0,    131750],\n",
    "         [ 2,   2,   1,    970,   0,    132000],\n",
    "         [ 3,   3,   2,   1144,   0,    134000],\n",
    "         [ 2,   3,   1,   1000,   0,    134000],\n",
    "         [ 2,   3,   2,   1206,   0,    142000],\n",
    "         [ 2,   3,   1,   1285,   0,    143012],\n",
    "         [ 3,   3,   2,   1543,   0,    145846],\n",
    "         [ 2,   2,   1,    884,   0,    147000],\n",
    "         [ 1,   3,   1,   1019,   0,    148750],\n",
    "         [ 3,   4,   2,   1392,   0,    150000],\n",
    "         [ 2,   2,   1,    924,   1,    150454],\n",
    "         [ 3,   3,   2,   1217,   0,    151087],\n",
    "         [ 2,   3,   2,   1670,   0,    157296],\n",
    "         [ 3,   3,   2,   1302,   0,    157500],\n",
    "         [ 3,   3,   2,   1488,   0,    160000],\n",
    "         [ 2,   3,   2,   1373,   0,    160000],\n",
    "         [ 2,   4,   2,   1381,   0,    161250],\n",
    "         [ 3,   3,   2,   1265,   0,    164000],\n",
    "         [ 1,   2,   1,    881,   0,    165000],\n",
    "         [ 3,   4,   2,   1608,   0,    165750],\n",
    "         [ 2,   3,   1,   1344,   0,    166000],\n",
    "         [ 2,   3,   2,   1202,   0,    169000],\n",
    "         [ 4,   3,   2,   1104,   0,    170000],\n",
    "         [ 3,   3,   2,   1232,   0,    170000],\n",
    "         [ 3,   3,   1,   1638,   0,    170725],\n",
    "         [ 3,   2,   2,   1177,   0,    171750],\n",
    "         [ 2,   3,   2,   1582,   0,    172000],\n",
    "         [ 3,   2,   2,    904,   0,    173056],\n",
    "         [ 3,   3,   2,   1340,   0,    174000],\n",
    "         [ 2,   3,   2,   1204,   0,    174250],\n",
    "         [ 3,   4,   2,   1477,   0,    176850],\n",
    "         [ 3,   4,   2,   1497,   0,    179500],\n",
    "         [ 2,   3,   1,    960,   0,    185000],\n",
    "         [ 2,   3,   2,   1428,   0,    188700],\n",
    "         [ 3,   3,   1,   1039,   0,    189000],\n",
    "         [ 2,   3,   1,   1529,   0,    189000],\n",
    "         [ 2,   4,   3,   1892,   0,    189836],\n",
    "         [ 2,   4,   2,   1887,   0,    190000],\n",
    "         [ 2,   3,   2,   1294,   0,    191250],\n",
    "         [ 3,   3,   2,   1638,   0,    191675],\n",
    "         [ 3,   3,   2,   1677,   0,    195500],\n",
    "         [ 2,   3,   1,   1073,   0,    198000],\n",
    "         [ 2,   3,   2,   1231,   0,    200000],\n",
    "         [ 3,   3,   2,   1175,   0,    200000],\n",
    "         [ 3,   3,   2,   1416,   0,    200000],\n",
    "         [ 2,   3,   2,   1358,   0,    201528],\n",
    "         [ 3,   4,   2,   1609,   0,    204750],\n",
    "         [ 2,   4,   3,   1968,   0,    205000],\n",
    "         [ 1,   2,   2,   1089,   0,    205000],\n",
    "         [ 2,   3,   2,   1296,   0,    205900],\n",
    "         [ 3,   2,   2,   1189,   0,    207000],\n",
    "         [ 2,   2,   1,    795,   0,    207973],\n",
    "         [ 4,   3,   2,   1371,   0,    208250],\n",
    "         [ 2,   3,   1,   1310,   0,    208318],\n",
    "         [ 3,   3,   2,   1262,   0,    209347],\n",
    "         [ 3,   4,   2,   1740,   0,    211500],\n",
    "         [ 2,   3,   2,   1517,   0,    212000],\n",
    "         [ 3,   3,   2,   1450,   0,    213000],\n",
    "         [ 3,   3,   2,   1416,   0,    216000],\n",
    "         [ 3,   3,   1,    888,   0,    216021],\n",
    "         [ 2,   3,   2,   1882,   0,    219000],\n",
    "         [ 3,   3,   2,   1302,   0,    219794],\n",
    "         [ 3,   3,   2,   1418,   0,    220000],\n",
    "         [ 2,   4,   2,   1319,   0,    220000],\n",
    "         [ 3,   4,   2,   1770,   0,    220000],\n",
    "         [ 2,   4,   2,   1627,   0,    223000],\n",
    "         [ 2,   3,   1,   1040,   0,    224000],\n",
    "         [ 2,   3,   1,    960,   0,    224252],\n",
    "         [ 2,   3,   1,   1456,   0,    225000],\n",
    "         [ 3,   3,   2,   1450,   0,    228000],\n",
    "         [ 4,   3,   2,   1358,   0,    229027],\n",
    "         [ 3,   4,   2,   1329,   0,    229500],\n",
    "         [ 3,   4,   2,   1715,   0,    230000],\n",
    "         [ 3,   3,   2,   1262,   0,    230000],\n",
    "         [ 3,   4,   3,   2280,   0,    232425],\n",
    "         [ 3,   3,   2,   1477,   0,    234000],\n",
    "         [ 2,   3,   2,   1216,   0,    235000],\n",
    "         [ 3,   4,   2,   1685,   0,    235301],\n",
    "         [ 4,   3,   2,   1362,   0,    235738]])\n",
    "    return { \n",
    "        \"price\": X[:,5] / 1000,  # selling price in 1000 dollars\n",
    "        \"area\": X[:,3] / 1000,   # house area in 1000 square feet\n",
    "        \"beds\": X[:,1],          # number of bedrooms\n",
    "        \"baths\": X[:,2],         # number of bathrooms\n",
    "        \"condo\": X[:,4],         # 1 if condo, 0 otherwise \n",
    "        \"location\": X[:,0]}     # location (1,2,3,4)"
   ]
  },
  {
   "cell_type": "code",
   "execution_count": null,
   "metadata": {},
   "outputs": [],
   "source": []
  }
 ],
 "metadata": {
  "kernelspec": {
   "display_name": "Python 3",
   "language": "python",
   "name": "python3"
  },
  "language_info": {
   "codemirror_mode": {
    "name": "ipython",
    "version": 3
   },
   "file_extension": ".py",
   "mimetype": "text/x-python",
   "name": "python",
   "nbconvert_exporter": "python",
   "pygments_lexer": "ipython3",
   "version": "3.7.3"
  }
 },
 "nbformat": 4,
 "nbformat_minor": 2
}
